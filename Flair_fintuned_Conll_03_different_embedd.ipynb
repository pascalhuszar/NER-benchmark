{
  "nbformat": 4,
  "nbformat_minor": 0,
  "metadata": {
    "colab": {
      "name": "Flair_fintuned_Conll_03_different_embedd.ipynb",
      "provenance": [],
      "collapsed_sections": [
        "WcyMfa4Hk9L2",
        "ZWfGv7h2Gh-W",
        "GZacepc8LhqZ",
        "PF4NtcQlLplO",
        "dI2_i56SxubP",
        "hUYn8Bs3X2rK",
        "r5z0MJFDY72k",
        "tJoKW37iUsyY",
        "tgqgjdvlgM-q",
        "jEmXUeRogl92",
        "tDblEo_YZ2hd",
        "H7-FAsWgRjrA",
        "pX2U3RZmSLa_",
        "IUp-34p9aqz5",
        "p4iWznPwUxO0",
        "6FnOfvlQbpTb",
        "LEkCXfLrZIz8",
        "aHFumxgxbvAF",
        "_oTyHf5jZblf",
        "sMxCCGWWb772",
        "eEinDdOReGtm",
        "i281Wbd5ejlG",
        "u4icwuEtesow",
        "urbljo5SiHLg",
        "veiZOL0ijsD9",
        "ijJcsDyDj6I2",
        "K6g5KjFIbQdD"
      ],
      "include_colab_link": true
    },
    "kernelspec": {
      "name": "python3",
      "display_name": "Python 3"
    },
    "accelerator": "GPU"
  },
  "cells": [
    {
      "cell_type": "markdown",
      "metadata": {
        "id": "view-in-github",
        "colab_type": "text"
      },
      "source": [
        "<a href=\"https://colab.research.google.com/github/pascalhuszar/flair_notebook/blob/master/Flair_fintuned_Conll_03_different_embedd.ipynb\" target=\"_parent\"><img src=\"https://colab.research.google.com/assets/colab-badge.svg\" alt=\"Open In Colab\"/></a>"
      ]
    },
    {
      "cell_type": "markdown",
      "metadata": {
        "id": "Z2_JcHzIcez_",
        "colab_type": "text"
      },
      "source": [
        "# Walktrough Flair Framework using Conll_03, GermEval_14 as datasets + different embeddings\n",
        "\n",
        "## Embeddings:\n",
        "\n",
        "\n",
        "*   FastText\n",
        "*   BytePair\n",
        "*   Flair\n",
        "*   PooledFlair\n",
        "*   BERT base, Multilingual, German (deepset.ai), GERMAN (dbmdz)\n",
        "*   Hot One\n",
        "*   XLM German+English (CLM/-)\n",
        "*   DistilBERT German, Multilingual\n",
        "\n",
        "\n",
        "\n",
        "\n"
      ]
    },
    {
      "cell_type": "markdown",
      "metadata": {
        "id": "WcyMfa4Hk9L2",
        "colab_type": "text"
      },
      "source": [
        "## 1. Install and Imports\n"
      ]
    },
    {
      "cell_type": "code",
      "metadata": {
        "id": "2-BVFZXNLLBz",
        "colab_type": "code",
        "colab": {}
      },
      "source": [
        "# if data is on drive\n",
        "from google.colab import drive\n",
        "drive.mount('/content/drive')"
      ],
      "execution_count": null,
      "outputs": []
    },
    {
      "cell_type": "code",
      "metadata": {
        "id": "MQrkdWR8OPdS",
        "colab_type": "code",
        "colab": {}
      },
      "source": [
        "# install flair\n",
        "!pip install flair"
      ],
      "execution_count": null,
      "outputs": []
    },
    {
      "cell_type": "code",
      "metadata": {
        "id": "y2cEcB-qZwHR",
        "colab_type": "code",
        "colab": {}
      },
      "source": [
        "# see if flair is installed\n",
        "!pip show flair"
      ],
      "execution_count": null,
      "outputs": []
    },
    {
      "cell_type": "code",
      "metadata": {
        "id": "l8dPj23vkHTG",
        "colab_type": "code",
        "colab": {}
      },
      "source": [
        "# imports\n",
        "from flair.data import Corpus\n",
        "from flair.datasets import CONLL_03_GERMAN, ColumnCorpus \n",
        "from flair.embeddings import TokenEmbeddings, WordEmbeddings, StackedEmbeddings, FlairEmbeddings, OneHotEmbeddings, BertEmbeddings, XLMEmbeddings, BytePairEmbeddings, PooledFlairEmbeddings, CharacterEmbeddings\n",
        "from flair.visual.training_curves import Plotter\n",
        "from flair.trainers import ModelTrainer\n",
        "from flair.models import SequenceTagger\n",
        "from typing import List"
      ],
      "execution_count": null,
      "outputs": []
    },
    {
      "cell_type": "markdown",
      "metadata": {
        "id": "ZWfGv7h2Gh-W",
        "colab_type": "text"
      },
      "source": [
        "## 2. Set the corpus\n"
      ]
    },
    {
      "cell_type": "markdown",
      "metadata": {
        "id": "GZacepc8LhqZ",
        "colab_type": "text"
      },
      "source": [
        "### GermEval_14\n",
        "#### Formatted in BIOES-Format\n",
        "\n"
      ]
    },
    {
      "cell_type": "code",
      "metadata": {
        "id": "349o_xeyGr0O",
        "colab_type": "code",
        "colab": {}
      },
      "source": [
        "columns = {0: 'text', 1: 'ner'}\n",
        "data_folder = '/content/drive/My Drive/resources/tasks/conll_03_german/BIOES'\n",
        "\n",
        "corpus: Corpus = ColumnCorpus(data_folder, columns,\n",
        "                              train_file='trainBIOES.train',\n",
        "                              test_file='testBIOES.test',\n",
        "                              dev_file='devBIOES.dev')"
      ],
      "execution_count": null,
      "outputs": []
    },
    {
      "cell_type": "markdown",
      "metadata": {
        "id": "PF4NtcQlLplO",
        "colab_type": "text"
      },
      "source": [
        "### Conll_03\n",
        "#### delete tag_to_bioes if BIO/IOB format is desired\n"
      ]
    },
    {
      "cell_type": "code",
      "metadata": {
        "id": "rBnv-jIpLrgS",
        "colab_type": "code",
        "colab": {}
      },
      "source": [
        "columns = {0: 'text', 2: 'pos', 4: 'ner'}\n",
        "data_folder = '/content/drive/My Drive/resources/tasks/conll_03_german/BIO + POS'\n",
        "\n",
        "corpus: Corpus = ColumnCorpus(data_folder, columns,\n",
        "                              tag_to_bioes='ner',\n",
        "                              train_file='deu.train',\n",
        "                              dev_file='deu.dev',\n",
        "                              test_file='deu.testa')"
      ],
      "execution_count": null,
      "outputs": []
    },
    {
      "cell_type": "markdown",
      "metadata": {
        "id": "dI2_i56SxubP",
        "colab_type": "text"
      },
      "source": [
        "## 3. Define Task"
      ]
    },
    {
      "cell_type": "code",
      "metadata": {
        "id": "fspFpCHzb4H_",
        "colab_type": "code",
        "colab": {}
      },
      "source": [
        "# define task + tag dict.\n",
        "tag_type = 'ner'\n",
        "tag_dictionary = corpus.make_tag_dictionary(tag_type=tag_type)\n",
        "print(tag_dictionary )\n",
        "#print(corpus.train[2].to_tagged_string('ner'))"
      ],
      "execution_count": null,
      "outputs": []
    },
    {
      "cell_type": "markdown",
      "metadata": {
        "id": "JAd8EkjOUeH8",
        "colab_type": "text"
      },
      "source": [
        "## 4. Set Embeddings"
      ]
    },
    {
      "cell_type": "markdown",
      "metadata": {
        "id": "hUYn8Bs3X2rK",
        "colab_type": "text"
      },
      "source": [
        "### ~ Word (fastext) + BytePairEmbeddings Embeddings\n",
        "#### BytePair for oov-functionality \n"
      ]
    },
    {
      "cell_type": "code",
      "metadata": {
        "id": "cj88rDnuYmba",
        "colab_type": "code",
        "colab": {}
      },
      "source": [
        "# initialize embeddings \n",
        "embedding_types: List[TokenEmbeddings] = [\n",
        "                                         WordEmbeddings('de'),\n",
        "                                         BytePairEmbeddings('de')                                                 \n",
        "]\n",
        "embeddings: StackedEmbeddings = StackedEmbeddings(embeddings=embedding_types)"
      ],
      "execution_count": null,
      "outputs": []
    },
    {
      "cell_type": "markdown",
      "metadata": {
        "id": "r5z0MJFDY72k",
        "colab_type": "text"
      },
      "source": [
        "### ~ Word (fasttext over crawl) + BytePairEmbeddings Embeddings\n",
        "\n",
        "\n"
      ]
    },
    {
      "cell_type": "code",
      "metadata": {
        "id": "O6_I18kLZA8g",
        "colab_type": "code",
        "colab": {}
      },
      "source": [
        "# initialize embeddings \n",
        "embedding_types: List[TokenEmbeddings] = [\n",
        "                                         WordEmbeddings('de-crawl'),\n",
        "                                         BytePairEmbeddings('de')                                                   \n",
        "]\n",
        "embeddings: StackedEmbeddings = StackedEmbeddings(embeddings=embedding_types)"
      ],
      "execution_count": null,
      "outputs": []
    },
    {
      "cell_type": "markdown",
      "metadata": {
        "id": "tJoKW37iUsyY",
        "colab_type": "text"
      },
      "source": [
        "### ~ Word (fasttext) + Flair Embeddings"
      ]
    },
    {
      "cell_type": "code",
      "metadata": {
        "id": "L43bPcondLAw",
        "colab_type": "code",
        "colab": {}
      },
      "source": [
        "# initialize embeddings \n",
        "embedding_types: List[TokenEmbeddings] = [\n",
        "                                         WordEmbeddings('de'),\n",
        "\n",
        "                                         FlairEmbeddings('de-forward'),\n",
        "                                         FlairEmbeddings('de-backward'),                                                   \n",
        "]\n",
        "embeddings: StackedEmbeddings = StackedEmbeddings(embeddings=embedding_types)"
      ],
      "execution_count": null,
      "outputs": []
    },
    {
      "cell_type": "markdown",
      "metadata": {
        "id": "tgqgjdvlgM-q",
        "colab_type": "text"
      },
      "source": [
        "### ~ Word (fasttext) + Flair (de-history) Embeddings \n",
        "#### Hamburger Anzeiger"
      ]
    },
    {
      "cell_type": "code",
      "metadata": {
        "id": "KpRliKT3gUoe",
        "colab_type": "code",
        "colab": {}
      },
      "source": [
        "# initialize embeddings \n",
        "embedding_types: List[TokenEmbeddings] = [\n",
        "                                         WordEmbeddings('de'),\n",
        "\n",
        "                                         FlairEmbeddings('de-historic-ha-forward'),\n",
        "                                         FlairEmbeddings('de-historic-ha-backward'),                                                   \n",
        "]\n",
        "embeddings: StackedEmbeddings = StackedEmbeddings(embeddings=embedding_types)"
      ],
      "execution_count": null,
      "outputs": []
    },
    {
      "cell_type": "markdown",
      "metadata": {
        "colab_type": "text",
        "id": "jEmXUeRogl92"
      },
      "source": [
        "### ~ Word (fasttext) + Flair (de-history) Embeddings \n",
        "#### Wiener Zeitung"
      ]
    },
    {
      "cell_type": "code",
      "metadata": {
        "colab_type": "code",
        "id": "HqqTOHTsgl97",
        "colab": {
          "base_uri": "https://localhost:8080/"
        },
        "outputId": "103917d0-fcfb-49cc-c882-62ddeaab9144"
      },
      "source": [
        "# initialize embeddings \n",
        "embedding_types: List[TokenEmbeddings] = [\n",
        "                                         WordEmbeddings('de'),\n",
        "\n",
        "                                         FlairEmbeddings('de-historic-wz-forward'),\n",
        "                                         FlairEmbeddings('de-historic-wz-backward'),                                                   \n",
        "]\n",
        "embeddings: StackedEmbeddings = StackedEmbeddings(embeddings=embedding_types)"
      ],
      "execution_count": null,
      "outputs": [
        {
          "output_type": "stream",
          "text": [
            "2020-04-21 08:54:39,136 https://s3.eu-central-1.amazonaws.com/alan-nlp/resources/embeddings-v0.4/de-wiki-fasttext-300d-1M.vectors.npy not found in cache, downloading to /tmp/tmpq7wvpjql\n"
          ],
          "name": "stdout"
        },
        {
          "output_type": "stream",
          "text": [
            "100%|██████████| 1199998928/1199998928 [00:16<00:00, 71006749.88B/s]"
          ],
          "name": "stderr"
        },
        {
          "output_type": "stream",
          "text": [
            "2020-04-21 08:54:56,296 copying /tmp/tmpq7wvpjql to cache at /root/.flair/embeddings/de-wiki-fasttext-300d-1M.vectors.npy\n"
          ],
          "name": "stdout"
        },
        {
          "output_type": "stream",
          "text": [
            "\n"
          ],
          "name": "stderr"
        },
        {
          "output_type": "stream",
          "text": [
            "2020-04-21 08:55:07,906 removing temp file /tmp/tmpq7wvpjql\n",
            "2020-04-21 08:55:08,091 https://s3.eu-central-1.amazonaws.com/alan-nlp/resources/embeddings-v0.4/de-wiki-fasttext-300d-1M not found in cache, downloading to /tmp/tmpehremsz6\n"
          ],
          "name": "stdout"
        },
        {
          "output_type": "stream",
          "text": [
            "100%|██████████| 42184395/42184395 [00:04<00:00, 9377676.64B/s] "
          ],
          "name": "stderr"
        },
        {
          "output_type": "stream",
          "text": [
            "2020-04-21 08:55:12,738 copying /tmp/tmpehremsz6 to cache at /root/.flair/embeddings/de-wiki-fasttext-300d-1M\n",
            "2020-04-21 08:55:12,823 removing temp file /tmp/tmpehremsz6\n"
          ],
          "name": "stdout"
        },
        {
          "output_type": "stream",
          "text": [
            "\n",
            "/usr/local/lib/python3.6/dist-packages/smart_open/smart_open_lib.py:253: UserWarning: This function is deprecated, use smart_open.open instead. See the migration notes for details: https://github.com/RaRe-Technologies/smart_open/blob/master/README.rst#migrating-to-the-new-open-function\n",
            "  'See the migration notes for details: %s' % _MIGRATION_NOTES_URL\n"
          ],
          "name": "stderr"
        },
        {
          "output_type": "stream",
          "text": [
            "2020-04-21 08:55:19,803 https://s3.eu-central-1.amazonaws.com/alan-nlp/resources/embeddings-stefan-it/lm-historic-wiener-zeitung-forward-v0.1.pt not found in cache, downloading to /tmp/tmpn1othbny\n"
          ],
          "name": "stdout"
        },
        {
          "output_type": "stream",
          "text": [
            "100%|██████████| 71605380/71605380 [00:01<00:00, 39296596.61B/s]"
          ],
          "name": "stderr"
        },
        {
          "output_type": "stream",
          "text": [
            "2020-04-21 08:55:21,788 copying /tmp/tmpn1othbny to cache at /root/.flair/embeddings/lm-historic-wiener-zeitung-forward-v0.1.pt\n",
            "2020-04-21 08:55:21,851 removing temp file /tmp/tmpn1othbny\n"
          ],
          "name": "stdout"
        },
        {
          "output_type": "stream",
          "text": [
            "\n"
          ],
          "name": "stderr"
        },
        {
          "output_type": "stream",
          "text": [
            "2020-04-21 08:55:40,726 https://s3.eu-central-1.amazonaws.com/alan-nlp/resources/embeddings-stefan-it/lm-historic-wiener-zeitung-backward-v0.1.pt not found in cache, downloading to /tmp/tmpw5_syvgz\n"
          ],
          "name": "stdout"
        },
        {
          "output_type": "stream",
          "text": [
            "100%|██████████| 71605376/71605376 [00:01<00:00, 40011142.01B/s]"
          ],
          "name": "stderr"
        },
        {
          "output_type": "stream",
          "text": [
            "2020-04-21 08:55:42,693 copying /tmp/tmpw5_syvgz to cache at /root/.flair/embeddings/lm-historic-wiener-zeitung-backward-v0.1.pt\n"
          ],
          "name": "stdout"
        },
        {
          "output_type": "stream",
          "text": [
            "\n"
          ],
          "name": "stderr"
        },
        {
          "output_type": "stream",
          "text": [
            "2020-04-21 08:55:42,899 removing temp file /tmp/tmpw5_syvgz\n"
          ],
          "name": "stdout"
        }
      ]
    },
    {
      "cell_type": "markdown",
      "metadata": {
        "id": "tDblEo_YZ2hd",
        "colab_type": "text"
      },
      "source": [
        "### ~ Word (fasttext) + Pooled Flair Embeddings\n",
        "#### Best known configuration"
      ]
    },
    {
      "cell_type": "code",
      "metadata": {
        "id": "yp24kaCSZ_ck",
        "colab_type": "code",
        "colab": {
          "base_uri": "https://localhost:8080/"
        },
        "outputId": "c69cc796-a85a-4c41-f426-0a0dad3f9f9d"
      },
      "source": [
        "# initialize embeddings \n",
        "embedding_types: List[TokenEmbeddings] = [\n",
        "                                         WordEmbeddings('de'),\n",
        "\n",
        "                                         PooledFlairEmbeddings('german-forward'),\n",
        "                                         PooledFlairEmbeddings('german-backward'),                                                   \n",
        "]\n",
        "embeddings: StackedEmbeddings = StackedEmbeddings(embeddings=embedding_types)"
      ],
      "execution_count": null,
      "outputs": [
        {
          "output_type": "stream",
          "text": [
            "/usr/local/lib/python3.6/dist-packages/smart_open/smart_open_lib.py:253: UserWarning: This function is deprecated, use smart_open.open instead. See the migration notes for details: https://github.com/RaRe-Technologies/smart_open/blob/master/README.rst#migrating-to-the-new-open-function\n",
            "  'See the migration notes for details: %s' % _MIGRATION_NOTES_URL\n"
          ],
          "name": "stderr"
        },
        {
          "output_type": "stream",
          "text": [
            "2020-04-21 16:04:26,417 https://s3.eu-central-1.amazonaws.com/alan-nlp/resources/embeddings/lm-mix-german-forward-v0.2rc.pt not found in cache, downloading to /tmp/tmp7tsfxq1d\n"
          ],
          "name": "stdout"
        },
        {
          "output_type": "stream",
          "text": [
            "100%|██████████| 72818995/72818995 [00:01<00:00, 53299890.48B/s]"
          ],
          "name": "stderr"
        },
        {
          "output_type": "stream",
          "text": [
            "2020-04-21 16:04:27,957 copying /tmp/tmp7tsfxq1d to cache at /root/.flair/embeddings/lm-mix-german-forward-v0.2rc.pt\n"
          ],
          "name": "stdout"
        },
        {
          "output_type": "stream",
          "text": [
            "\n"
          ],
          "name": "stderr"
        },
        {
          "output_type": "stream",
          "text": [
            "2020-04-21 16:04:28,024 removing temp file /tmp/tmp7tsfxq1d\n",
            "2020-04-21 16:04:46,213 https://s3.eu-central-1.amazonaws.com/alan-nlp/resources/embeddings/lm-mix-german-backward-v0.2rc.pt not found in cache, downloading to /tmp/tmphbu4ir5t\n"
          ],
          "name": "stdout"
        },
        {
          "output_type": "stream",
          "text": [
            "100%|██████████| 72818995/72818995 [00:01<00:00, 65624749.98B/s]"
          ],
          "name": "stderr"
        },
        {
          "output_type": "stream",
          "text": [
            "2020-04-21 16:04:47,501 copying /tmp/tmphbu4ir5t to cache at /root/.flair/embeddings/lm-mix-german-backward-v0.2rc.pt\n"
          ],
          "name": "stdout"
        },
        {
          "output_type": "stream",
          "text": [
            "\n"
          ],
          "name": "stderr"
        },
        {
          "output_type": "stream",
          "text": [
            "2020-04-21 16:04:47,604 removing temp file /tmp/tmphbu4ir5t\n"
          ],
          "name": "stdout"
        }
      ]
    },
    {
      "cell_type": "markdown",
      "metadata": {
        "colab_type": "text",
        "id": "H7-FAsWgRjrA"
      },
      "source": [
        "### Word (fasttext) + CharacterEmbeddings + Flair Embeddings\n",
        "\n"
      ]
    },
    {
      "cell_type": "code",
      "metadata": {
        "colab_type": "code",
        "id": "iIWrvL5WRjrB",
        "colab": {
          "base_uri": "https://localhost:8080/",
          "height": 71
        },
        "outputId": "a7d2a2c9-e68e-4902-da3d-71de63712ac8"
      },
      "source": [
        "# initialize embeddings \n",
        "embedding_types: List[TokenEmbeddings] = [\n",
        "                                         WordEmbeddings('de'),\n",
        "                                         CharacterEmbeddings(),\n",
        "                                         FlairEmbeddings('de-forward'),\n",
        "                                         FlairEmbeddings('de-backward'),\n",
        "                                                                                            \n",
        "]\n",
        "embeddings: StackedEmbeddings = StackedEmbeddings(embeddings=embedding_types)"
      ],
      "execution_count": null,
      "outputs": [
        {
          "output_type": "stream",
          "text": [
            "/usr/local/lib/python3.6/dist-packages/smart_open/smart_open_lib.py:253: UserWarning: This function is deprecated, use smart_open.open instead. See the migration notes for details: https://github.com/RaRe-Technologies/smart_open/blob/master/README.rst#migrating-to-the-new-open-function\n",
            "  'See the migration notes for details: %s' % _MIGRATION_NOTES_URL\n"
          ],
          "name": "stderr"
        }
      ]
    },
    {
      "cell_type": "markdown",
      "metadata": {
        "colab_type": "text",
        "id": "pX2U3RZmSLa_"
      },
      "source": [
        "### Word (fasttext) + CharacterEmbeddings + Pooled Flair Embeddings \n",
        "\n",
        "\n"
      ]
    },
    {
      "cell_type": "code",
      "metadata": {
        "id": "X_CuSYuDSXxb",
        "colab_type": "code",
        "colab": {}
      },
      "source": [
        "# initialize embeddings \n",
        "embedding_types: List[TokenEmbeddings] = [\n",
        "                                         WordEmbeddings('de'),\n",
        "                                         CharacterEmbeddings(),\n",
        "                                         PooledFlairEmbeddings('german-forward'),\n",
        "                                         PooledFlairEmbeddings('german-backward'), \n",
        "                                                                                            \n",
        "]\n",
        "embeddings: StackedEmbeddings = StackedEmbeddings(embeddings=embedding_types)"
      ],
      "execution_count": null,
      "outputs": []
    },
    {
      "cell_type": "markdown",
      "metadata": {
        "id": "IUp-34p9aqz5",
        "colab_type": "text"
      },
      "source": [
        "### PooledFlair Embeddings + dbmdz-BERT-german-cased Embeddings\n"
      ]
    },
    {
      "cell_type": "code",
      "metadata": {
        "id": "Zj8YpWXpa0Pr",
        "colab_type": "code",
        "colab": {}
      },
      "source": [
        "# initialize embeddings \n",
        "embedding_types: List[TokenEmbeddings] = [\n",
        "                                         PooledFlairEmbeddings('german-forward'),\n",
        "                                         PooledFlairEmbeddings('german-backward'),\n",
        "                                          \n",
        "                                         BertEmbeddings('bert-base-german-dbmdz-cased')\n",
        "                                                                                             \n",
        "]\n",
        "embeddings: StackedEmbeddings = StackedEmbeddings(embeddings=embedding_types)"
      ],
      "execution_count": null,
      "outputs": []
    },
    {
      "cell_type": "markdown",
      "metadata": {
        "id": "p4iWznPwUxO0",
        "colab_type": "text"
      },
      "source": [
        "### ~ Word (fasttext) + dbmdz-BERT-german-cased Embeddings\n"
      ]
    },
    {
      "cell_type": "code",
      "metadata": {
        "id": "S50SDIfAU02X",
        "colab_type": "code",
        "colab": {}
      },
      "source": [
        "# initialize embeddings \n",
        "embedding_types: List[TokenEmbeddings] = [\n",
        "                                         WordEmbeddings('de'),\n",
        "\n",
        "                                         BertEmbeddings('bert-base-german-dbmdz-cased'),\n",
        "                                                                                            \n",
        "]\n",
        "embeddings: StackedEmbeddings = StackedEmbeddings(embeddings=embedding_types)"
      ],
      "execution_count": null,
      "outputs": []
    },
    {
      "cell_type": "markdown",
      "metadata": {
        "colab_type": "text",
        "id": "6FnOfvlQbpTb"
      },
      "source": [
        "### Word (fasttext) + dbmdz-BERT-german-uncased Embeddings\n"
      ]
    },
    {
      "cell_type": "code",
      "metadata": {
        "colab_type": "code",
        "id": "KOl8Ry4UbpTf",
        "colab": {}
      },
      "source": [
        "# initialize embeddings \n",
        "embedding_types: List[TokenEmbeddings] = [\n",
        "                                         WordEmbeddings('de'),\n",
        "\n",
        "                                         BertEmbeddings('bert-base-german-dbmdz-uncased'),\n",
        "                                                                                            \n",
        "]\n",
        "embeddings: StackedEmbeddings = StackedEmbeddings(embeddings=embedding_types)"
      ],
      "execution_count": null,
      "outputs": []
    },
    {
      "cell_type": "markdown",
      "metadata": {
        "id": "LEkCXfLrZIz8",
        "colab_type": "text"
      },
      "source": [
        "### ~ Word (fasttext) + BERT-base-cased Embeddings"
      ]
    },
    {
      "cell_type": "code",
      "metadata": {
        "id": "rQvJ3EDtZOc9",
        "colab_type": "code",
        "colab": {}
      },
      "source": [
        "# initialize embeddings \n",
        "embedding_types: List[TokenEmbeddings] = [\n",
        "                                         WordEmbeddings('de'),\n",
        "\n",
        "                                         BertEmbeddings('bert-base-cased'),\n",
        "                                                                                            \n",
        "]\n",
        "embeddings: StackedEmbeddings = StackedEmbeddings(embeddings=embedding_types)"
      ],
      "execution_count": null,
      "outputs": []
    },
    {
      "cell_type": "markdown",
      "metadata": {
        "colab_type": "text",
        "id": "aHFumxgxbvAF"
      },
      "source": [
        "### Word (fasttext) + BERT-base-uncased Embeddings"
      ]
    },
    {
      "cell_type": "code",
      "metadata": {
        "colab_type": "code",
        "id": "JU2hESKIbvAI",
        "colab": {}
      },
      "source": [
        "# initialize embeddings \n",
        "embedding_types: List[TokenEmbeddings] = [\n",
        "                                         WordEmbeddings('de'),\n",
        "\n",
        "                                         BertEmbeddings('bert-base-uncased'),\n",
        "                                                                                            \n",
        "]\n",
        "embeddings: StackedEmbeddings = StackedEmbeddings(embeddings=embedding_types)"
      ],
      "execution_count": null,
      "outputs": []
    },
    {
      "cell_type": "markdown",
      "metadata": {
        "id": "_oTyHf5jZblf",
        "colab_type": "text"
      },
      "source": [
        "### ~ Word (fasttext) + BERT-multilingual-cased Embeddings"
      ]
    },
    {
      "cell_type": "code",
      "metadata": {
        "id": "duMnUjUBZk02",
        "colab_type": "code",
        "colab": {}
      },
      "source": [
        "# initialize embeddings \n",
        "embedding_types: List[TokenEmbeddings] = [\n",
        "                                         WordEmbeddings('de'),\n",
        "\n",
        "                                         BertEmbeddings('bert-base-multilingual-cased'),\n",
        "                                                                                            \n",
        "]\n",
        "embeddings: StackedEmbeddings = StackedEmbeddings(embeddings=embedding_types)"
      ],
      "execution_count": null,
      "outputs": []
    },
    {
      "cell_type": "markdown",
      "metadata": {
        "colab_type": "text",
        "id": "sMxCCGWWb772"
      },
      "source": [
        "### Word (fasttext) + BERT-multilingual-uncased Embeddings"
      ]
    },
    {
      "cell_type": "code",
      "metadata": {
        "colab_type": "code",
        "id": "ghKuAhb7b776",
        "colab": {}
      },
      "source": [
        "# initialize embeddings \n",
        "embedding_types: List[TokenEmbeddings] = [\n",
        "                                         WordEmbeddings('de'),\n",
        "\n",
        "                                         BertEmbeddings('bert-base-multilingual-uncased'),\n",
        "                                                                                            \n",
        "]\n",
        "embeddings: StackedEmbeddings = StackedEmbeddings(embeddings=embedding_types)"
      ],
      "execution_count": null,
      "outputs": []
    },
    {
      "cell_type": "markdown",
      "metadata": {
        "id": "eEinDdOReGtm",
        "colab_type": "text"
      },
      "source": [
        "### ~ Word (fasttext) + BERT-base-german-cased\n"
      ]
    },
    {
      "cell_type": "code",
      "metadata": {
        "id": "kNmgr74GeL8f",
        "colab_type": "code",
        "colab": {}
      },
      "source": [
        "# initialize embeddings \n",
        "embedding_types: List[TokenEmbeddings] = [\n",
        "                                         WordEmbeddings('de'),\n",
        "\n",
        "                                         BertEmbeddings('bert-base-german-cased'),\n",
        "                                                                                            \n",
        "]\n",
        "embeddings: StackedEmbeddings = StackedEmbeddings(embeddings=embedding_types)"
      ],
      "execution_count": null,
      "outputs": []
    },
    {
      "cell_type": "markdown",
      "metadata": {
        "id": "i281Wbd5ejlG",
        "colab_type": "text"
      },
      "source": [
        "### ~ Word (fasttext) + distilbert-base-german-cased"
      ]
    },
    {
      "cell_type": "code",
      "metadata": {
        "id": "d42UlqrIenHf",
        "colab_type": "code",
        "colab": {}
      },
      "source": [
        "# initialize embeddings \n",
        "embedding_types: List[TokenEmbeddings] = [\n",
        "                                         WordEmbeddings('de'),\n",
        "\n",
        "                                         BertEmbeddings('distilbert-base-german-cased'),\n",
        "                                                                                            \n",
        "]\n",
        "embeddings: StackedEmbeddings = StackedEmbeddings(embeddings=embedding_types)"
      ],
      "execution_count": null,
      "outputs": []
    },
    {
      "cell_type": "markdown",
      "metadata": {
        "id": "u4icwuEtesow",
        "colab_type": "text"
      },
      "source": [
        "### Word (fastext) + distilbert-base-multilingual-cased"
      ]
    },
    {
      "cell_type": "code",
      "metadata": {
        "id": "B3raDCpPewPe",
        "colab_type": "code",
        "colab": {}
      },
      "source": [
        "# initialize embeddings \n",
        "embedding_types: List[TokenEmbeddings] = [\n",
        "                                         WordEmbeddings('de'),\n",
        "\n",
        "                                         BertEmbeddings('distilbert-base-multilingual-cased'),\n",
        "                                                                                            \n",
        "]\n",
        "embeddings: StackedEmbeddings = StackedEmbeddings(embeddings=embedding_types)"
      ],
      "execution_count": null,
      "outputs": []
    },
    {
      "cell_type": "markdown",
      "metadata": {
        "id": "urbljo5SiHLg",
        "colab_type": "text"
      },
      "source": [
        "### One Hot Embedding"
      ]
    },
    {
      "cell_type": "code",
      "metadata": {
        "id": "vPOtsglkiK11",
        "colab_type": "code",
        "colab": {}
      },
      "source": [
        "# load corpus\n",
        "corpus = \"Own Corpus\"\n",
        "\n",
        "# embed NER tags\n",
        "embeddings = OneHotEmbeddings(corpus=corpus, field='ner')"
      ],
      "execution_count": null,
      "outputs": []
    },
    {
      "cell_type": "markdown",
      "metadata": {
        "id": "veiZOL0ijsD9",
        "colab_type": "text"
      },
      "source": [
        "### Word (fasttext) + XLM (german + english)\n",
        "#### XLM English-German model trained on the concatenation of English and German wikipedia < 6-layer, 1024-hidden, 8-heads >\n"
      ]
    },
    {
      "cell_type": "code",
      "metadata": {
        "id": "RxoMCAx8j5qO",
        "colab_type": "code",
        "colab": {}
      },
      "source": [
        "# initialize embeddings \n",
        "embedding_types: List[TokenEmbeddings] = [\n",
        "                                         WordEmbeddings('de'),\n",
        "\n",
        "                                         XLMEmbeddings('xlm-mlm-ende-1024'),\n",
        "                                                                                            \n",
        "]\n",
        "embeddings: StackedEmbeddings = StackedEmbeddings(embeddings=embedding_types)"
      ],
      "execution_count": null,
      "outputs": []
    },
    {
      "cell_type": "markdown",
      "metadata": {
        "id": "ijJcsDyDj6I2",
        "colab_type": "text"
      },
      "source": [
        "### Word (fasttext) + XLM (german + english)\n",
        "#### XLM English-German model trained with CLM (Causal Language Modeling) on the concatenation of English and German wikipedia < 6-layer, 1024-hidden, 8-heads >\n"
      ]
    },
    {
      "cell_type": "code",
      "metadata": {
        "id": "RR7k27cyj--r",
        "colab_type": "code",
        "colab": {}
      },
      "source": [
        "# initialize embeddings \n",
        "embedding_types: List[TokenEmbeddings] = [\n",
        "                                         WordEmbeddings('de'),\n",
        "\n",
        "                                         XLMEmbeddings('xlm-clm-ende-1024'),\n",
        "                                                                                            \n",
        "]\n",
        "embeddings: StackedEmbeddings = StackedEmbeddings(embeddings=embedding_types)"
      ],
      "execution_count": null,
      "outputs": []
    },
    {
      "cell_type": "markdown",
      "metadata": {
        "id": "K6g5KjFIbQdD",
        "colab_type": "text"
      },
      "source": [
        "## 5. Set the remaining params and training"
      ]
    },
    {
      "cell_type": "code",
      "metadata": {
        "id": "1Eqf02nBgSOp",
        "colab_type": "code",
        "colab": {}
      },
      "source": [
        "# initialize sequence tagger\n",
        "tagger: SequenceTagger = SequenceTagger(hidden_size=256,\n",
        "                                        embeddings=embeddings,\n",
        "                                        tag_dictionary=tag_dictionary,\n",
        "                                        tag_type=tag_type,\n",
        "                                        use_crf=True)"
      ],
      "execution_count": null,
      "outputs": []
    },
    {
      "cell_type": "code",
      "metadata": {
        "id": "zPqPcqgugcJh",
        "colab_type": "code",
        "colab": {}
      },
      "source": [
        "# initialize trainer\n",
        "trainer: ModelTrainer = ModelTrainer(tagger, corpus)\n"
      ],
      "execution_count": null,
      "outputs": []
    },
    {
      "cell_type": "code",
      "metadata": {
        "id": "PCs4NAeKg3aU",
        "colab_type": "code",
        "colab": {}
      },
      "source": [
        "# start training \n",
        "trainer.train('resources/taggers/example-ner',\n",
        "              learning_rate=0.1,\n",
        "              mini_batch_size=32,\n",
        "              max_epochs=150,\n",
        "              checkpoint=True, \n",
        "              embeddings_storage_mode='gpu')"
      ],
      "execution_count": null,
      "outputs": []
    },
    {
      "cell_type": "code",
      "metadata": {
        "id": "tDfu7tXO5V1L",
        "colab_type": "code",
        "colab": {}
      },
      "source": [
        "# restart training at any time\n",
        "from pathlib import Path\n",
        "\n",
        "checkpoint = '/content/drive/My Drive/resources/checkpoint.pt'\n",
        "trainer = ModelTrainer.load_checkpoint(checkpoint, corpus)\n",
        "trainer.train('resources/taggers/example-ner',\n",
        "              learning_rate=0.1,\n",
        "              mini_batch_size=32,\n",
        "              train_with_dev='True',\n",
        "              max_epochs=?,\n",
        "              checkpoint=True, \n",
        "              embeddings_storage_mode='gpu')"
      ],
      "execution_count": null,
      "outputs": []
    },
    {
      "cell_type": "code",
      "metadata": {
        "id": "RXEphnwWhQD-",
        "colab_type": "code",
        "colab": {}
      },
      "source": [
        "# plot weight traces \n",
        "plotter = Plotter()\n",
        "plotter.plot_weights('resources/taggers/example-ner/weights.txt')"
      ],
      "execution_count": null,
      "outputs": []
    }
  ]
}
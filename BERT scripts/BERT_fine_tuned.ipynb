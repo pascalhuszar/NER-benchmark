{
  "nbformat": 4,
  "nbformat_minor": 0,
  "metadata": {
    "colab": {
      "name": "BERT_fine_tuned_conll03.ipynb",
      "provenance": [],
      "collapsed_sections": [
        "sZP0AW7QO_JM",
        "RPn4O99RPH3w",
        "EQz92c5qPm16",
        "6gKM0QcoPmqb",
        "D0AA2sgSPme7",
        "LC7i8cRjPmII",
        "TNy7ys9OPWHo",
        "UCVM46mvQI75",
        "H9OU90x7QSnv",
        "pukf-YxBQUyb",
        "XEsvMBZMQVW0",
        "0hQ4VfsLQVrp"
      ],
      "toc_visible": true
    },
    "kernelspec": {
      "name": "python3",
      "display_name": "Python 3"
    },
    "accelerator": "GPU"
  },
  "cells": [
    {
      "cell_type": "markdown",
      "metadata": {
        "id": "dgvxaFDVOl4m"
      },
      "source": [
        "# Walktrough Huggingface Framework \n",
        "Using Conll_03, GermEval_14 as datasets + fune-tuning different language models"
      ]
    },
    {
      "cell_type": "markdown",
      "metadata": {
        "id": "sZP0AW7QO_JM"
      },
      "source": [
        "## Install and imports"
      ]
    },
    {
      "cell_type": "code",
      "metadata": {
        "id": "HbvEP46L7F8E"
      },
      "source": [
        "pip install transformers tensorboardX tensorboard scikit-learn seqeval psutil sacrebleu rouge-score tensorflow_datasets"
      ],
      "execution_count": null,
      "outputs": []
    },
    {
      "cell_type": "markdown",
      "metadata": {
        "id": "RPn4O99RPH3w"
      },
      "source": [
        "# Preprocessing step\n",
        "#### Change settings (export) appropriate to your experimental setup\n"
      ]
    },
    {
      "cell_type": "code",
      "metadata": {
        "id": "D27-mxnT8KWt"
      },
      "source": [
        "!export MAX_LENGTH=128\n",
        "!export BERT_MODEL=bert-base-multilingual-cased"
      ],
      "execution_count": null,
      "outputs": []
    },
    {
      "cell_type": "code",
      "metadata": {
        "id": "IvioVbx1NNwA"
      },
      "source": [
        "cat complaints/train.txt complaints/dev.txt | cut -d \" \" -f 2 | grep -v \"^$\"| sort | uniq > complaints/labels.txt"
      ],
      "execution_count": null,
      "outputs": []
    },
    {
      "cell_type": "code",
      "metadata": {
        "id": "j3XZeUKl3t1I"
      },
      "source": [
        "!python3 preprocess.py train.train $BERT_MODEL $MAX_LENGTH  > train.txt\n",
        "!python3 preprocess.py dev.dev $BERT_MODEL $MAX_LENGTH > dev.txt\n",
        "!python3 preprocess.py test.test $BERT_MODEL $MAX_LENGTH  > test.txt"
      ],
      "execution_count": null,
      "outputs": []
    },
    {
      "cell_type": "markdown",
      "metadata": {
        "id": "3w0URmg4PQbs"
      },
      "source": [
        "# Start fine-tuning"
      ]
    },
    {
      "cell_type": "markdown",
      "metadata": {
        "id": "EQz92c5qPm16"
      },
      "source": [
        "### BERT base cased"
      ]
    },
    {
      "cell_type": "code",
      "metadata": {
        "id": "L4PMPUcAPm16"
      },
      "source": [
        "!python3 run_ner.py --data_dir ./ --labels ./labels.txt --model_name_or_path bert-base-cased --output_dir /content/bert_base_cased --max_seq_length 128 --num_train_epochs 3 --per_gpu_train_batch_size 32 --save_steps 750 --seed 1 --do_train --do_eval --do_predict"
      ],
      "execution_count": null,
      "outputs": []
    },
    {
      "cell_type": "markdown",
      "metadata": {
        "id": "6gKM0QcoPmqb"
      },
      "source": [
        "### BERT base uncased"
      ]
    },
    {
      "cell_type": "code",
      "metadata": {
        "id": "Jw-s0zy0Pmqc"
      },
      "source": [
        "!python3 run_ner.py --data_dir ./  --labels ./labels.txt --model_name_or_path bert-base-multilingual-uncased --output_dir germeval-model-uncased --max_seq_length 128 --num_train_epochs 3 --per_gpu_train_batch_size 32 --save_steps 750 --seed 1 --do_train --do_eval --do_predict"
      ],
      "execution_count": null,
      "outputs": []
    },
    {
      "cell_type": "markdown",
      "metadata": {
        "id": "D0AA2sgSPme7"
      },
      "source": [
        "### BERT multilingual cased"
      ]
    },
    {
      "cell_type": "code",
      "metadata": {
        "id": "ncA6Jon1Pme8"
      },
      "source": [
        "!python3 run_ner.py --data_dir ./ --labels ./labels.txt --model_name_or_path bert-base-multilingual-cased --output_dir /content/bert-multi-cased --max_seq_length 128  --num_train_epochs 3 --per_gpu_train_batch_size 32 --save_steps 750 --seed 1 --do_train --do_eval --do_predict"
      ],
      "execution_count": null,
      "outputs": []
    },
    {
      "cell_type": "markdown",
      "metadata": {
        "id": "LC7i8cRjPmII"
      },
      "source": [
        "### BERT multilingual uncased"
      ]
    },
    {
      "cell_type": "code",
      "metadata": {
        "id": "5R4RyV5eQNk_"
      },
      "source": [
        "!python3 run_ner.py --data_dir ./ --labels ./labels.txt --model_name_or_path bert-base-multilingual-uncased --output_dir /content/bert-multi-uncased --max_seq_length 128 --num_train_epochs 3 --per_gpu_train_batch_size 32 --save_steps 750 --seed 1 --do_train --do_eval --do_predict"
      ],
      "execution_count": null,
      "outputs": []
    },
    {
      "cell_type": "markdown",
      "metadata": {
        "id": "TNy7ys9OPWHo"
      },
      "source": [
        "### BERT german cased"
      ]
    },
    {
      "cell_type": "code",
      "metadata": {
        "id": "HN1ZxbnD6pl7"
      },
      "source": [
        "!python3 run_ner.py --data_dir ./ --labels ./labels.txt --model_name_or_path bert-base-german-cased --output_dir /content/bert-base-german-cased --max_seq_length 128 --num_train_epochs 3 --per_gpu_train_batch_size 32 --save_steps 750 --seed 1 --do_train --do_eval --do_predict "
      ],
      "execution_count": null,
      "outputs": []
    },
    {
      "cell_type": "markdown",
      "metadata": {
        "id": "UCVM46mvQI75"
      },
      "source": [
        "### BERT german uncased"
      ]
    },
    {
      "cell_type": "code",
      "metadata": {
        "id": "eZ4PgBKMQM4O"
      },
      "source": [
        "!python3 run_ner.py --data_dir ./ --model_type bert --labels ./labels.txt --model_name_or_path bert-base-multilingual-uncased --output_dir germeval-model-uncased --max_seq_length 128 --num_train_epochs 3 --per_gpu_train_batch_size 32 --save_steps 750 --seed 1 --do_train --do_eval --do_predict"
      ],
      "execution_count": null,
      "outputs": []
    },
    {
      "cell_type": "markdown",
      "metadata": {
        "id": "H9OU90x7QSnv"
      },
      "source": [
        "### dbmdz/bert-base-german-cased"
      ]
    },
    {
      "cell_type": "code",
      "metadata": {
        "id": "tQuykKiGQSnw"
      },
      "source": [
        "!python3 run_ner.py --data_dir /content/complaints/ --labels /content/complaints/labels.txt --model_name_or_path dbmdz/bert-base-german-cased --output_dir /content/complaints-dbmdz-bert-base-german-cased --max_seq_length 128 --num_train_epochs 3 --per_gpu_train_batch_size 32 --save_steps 750 --seed 1 --do_train --do_eval --do_predict"
      ],
      "execution_count": null,
      "outputs": []
    },
    {
      "cell_type": "markdown",
      "metadata": {
        "id": "pukf-YxBQUyb"
      },
      "source": [
        "### dbmdz-bert-base-german-uncased"
      ]
    },
    {
      "cell_type": "code",
      "metadata": {
        "id": "HglD4fADQUyc"
      },
      "source": [
        "!python3 run_ner.py --data_dir ./ --model_type bert --labels ./labels.txt --model_name_or_path bert-base-multilingual-uncased --output_dir germeval-model-uncased --max_seq_length 128 --num_train_epochs 3 --per_gpu_train_batch_size 32 --save_steps 750 --seed 1 --do_train --do_eval --do_predict"
      ],
      "execution_count": null,
      "outputs": []
    },
    {
      "cell_type": "markdown",
      "metadata": {
        "id": "XEsvMBZMQVW0"
      },
      "source": [
        "### distilbert-base-german-cased"
      ]
    },
    {
      "cell_type": "code",
      "metadata": {
        "id": "GAYXQzGxQVW1"
      },
      "source": [
        "!python3 run_ner.py --data_dir /content/complaints/ --labels /content/complaints/labels.txt --model_name_or_path distilbert-base-german-cased --output_dir /content/complaints-distilbert-base-german-uncased --max_seq_length 256 --num_train_epochs 3 --per_gpu_train_batch_size 32 --save_steps 750 --seed 1 --do_train --do_eval --do_predict"
      ],
      "execution_count": null,
      "outputs": []
    },
    {
      "cell_type": "markdown",
      "metadata": {
        "id": "0hQ4VfsLQVrp"
      },
      "source": [
        "### distilbert-base-german-uncased"
      ]
    },
    {
      "cell_type": "code",
      "metadata": {
        "id": "bQKixyFtQVrq"
      },
      "source": [
        "!python3 run_ner.py --data_dir ./ --model_type bert --labels ./labels.txt --model_name_or_path bert-base-multilingual-uncased --output_dir germeval-model-uncased --max_seq_length 128 --num_train_epochs 3 --per_gpu_train_batch_size 32 --save_steps 750 --seed 1 --do_train --do_eval --do_predict"
      ],
      "execution_count": null,
      "outputs": []
    }
  ]
}
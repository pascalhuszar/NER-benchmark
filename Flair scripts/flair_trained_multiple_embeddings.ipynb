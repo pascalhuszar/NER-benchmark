{
  "nbformat": 4,
  "nbformat_minor": 0,
  "metadata": {
    "colab": {
      "name": "Flair_fintuned_Conll_03_different_embedd.ipynb",
      "provenance": [],
      "collapsed_sections": [
        "WcyMfa4Hk9L2",
        "ZWfGv7h2Gh-W",
        "GZacepc8LhqZ",
        "PF4NtcQlLplO",
        "dI2_i56SxubP",
        "hUYn8Bs3X2rK",
        "r5z0MJFDY72k",
        "tJoKW37iUsyY",
        "tgqgjdvlgM-q",
        "jEmXUeRogl92",
        "tDblEo_YZ2hd",
        "H7-FAsWgRjrA",
        "pX2U3RZmSLa_",
        "IUp-34p9aqz5",
        "p4iWznPwUxO0",
        "6FnOfvlQbpTb",
        "LEkCXfLrZIz8",
        "aHFumxgxbvAF",
        "_oTyHf5jZblf",
        "sMxCCGWWb772",
        "eEinDdOReGtm",
        "i281Wbd5ejlG",
        "u4icwuEtesow",
        "urbljo5SiHLg",
        "veiZOL0ijsD9",
        "ijJcsDyDj6I2",
        "K6g5KjFIbQdD"
      ],
      "include_colab_link": true
    },
    "kernelspec": {
      "name": "python3",
      "display_name": "Python 3"
    },
    "accelerator": "GPU"
  },
  "cells": [
    {
      "cell_type": "markdown",
      "metadata": {
        "id": "view-in-github",
        "colab_type": "text"
      },
      "source": [
        "<a href=\"https://colab.research.google.com/github/pascalhuszar/ner-benchmark/blob/master/Flair%20trained%20on%20multiple%20embeddings.ipynb\" target=\"_parent\"><img src=\"https://colab.research.google.com/assets/colab-badge.svg\" alt=\"Open In Colab\"/></a>"
      ]
    },
    {
      "cell_type": "markdown",
      "metadata": {
        "id": "Z2_JcHzIcez_",
        "colab_type": "text"
      },
      "source": [
        "# Walktrough Flair Framework using Conll_03, GermEval_14 as datasets + different embeddings\n",
        "\n",
        "## Embeddings:\n",
        "\n",
        "\n",
        "*   FastText\n",
        "*   BytePair\n",
        "*   Flair\n",
        "*   PooledFlair\n",
        "*   BERT base, Multilingual, German (deepset.ai), GERMAN (dbmdz)\n",
        "*   DistilBERT German, Multilingual\n",
        "\n",
        "\n",
        "\n",
        "\n"
      ]
    },
    {
      "cell_type": "markdown",
      "metadata": {
        "id": "WcyMfa4Hk9L2",
        "colab_type": "text"
      },
      "source": [
        "## 1. Install and Imports\n"
      ]
    },
    {
      "cell_type": "code",
      "metadata": {
        "id": "2-BVFZXNLLBz",
        "colab_type": "code",
        "colab": {}
      },
      "source": [
        "# if data is on drive\n",
        "from google.colab import drive\n",
        "drive.mount('/content/drive')"
      ],
      "execution_count": null,
      "outputs": []
    },
    {
      "cell_type": "code",
      "metadata": {
        "id": "MQrkdWR8OPdS",
        "colab_type": "code",
        "colab": {}
      },
      "source": [
        "# install flair\n",
        "!pip install flair"
      ],
      "execution_count": null,
      "outputs": []
    },
    {
      "cell_type": "code",
      "metadata": {
        "id": "y2cEcB-qZwHR",
        "colab_type": "code",
        "colab": {}
      },
      "source": [
        "# see if flair is installed\n",
        "!pip show flair"
      ],
      "execution_count": null,
      "outputs": []
    },
    {
      "cell_type": "code",
      "metadata": {
        "id": "l8dPj23vkHTG",
        "colab_type": "code",
        "colab": {}
      },
      "source": [
        "# imports\n",
        "from flair.data import Corpus\n",
        "from flair.datasets import CONLL_03_GERMAN, ColumnCorpus \n",
        "from flair.embeddings import TokenEmbeddings, WordEmbeddings, StackedEmbeddings, FlairEmbeddings, OneHotEmbeddings, TransformerEmbeddings, BytePairEmbeddings, PooledFlairEmbeddings, CharacterEmbeddings\n",
        "from flair.visual.training_curves import Plotter\n",
        "from flair.trainers import ModelTrainer\n",
        "from flair.models import SequenceTagger\n",
        "from typing import List"
      ],
      "execution_count": null,
      "outputs": []
    },
    {
      "cell_type": "markdown",
      "metadata": {
        "id": "ZWfGv7h2Gh-W",
        "colab_type": "text"
      },
      "source": [
        "## 2. Set the corpus\n"
      ]
    },
    {
      "cell_type": "markdown",
      "metadata": {
        "id": "GZacepc8LhqZ",
        "colab_type": "text"
      },
      "source": [
        "### GermEval_14\n",
        "#### Formatted in BIOES-Format\n",
        "\n"
      ]
    },
    {
      "cell_type": "code",
      "metadata": {
        "id": "349o_xeyGr0O",
        "colab_type": "code",
        "colab": {}
      },
      "source": [
        "columns = {0: 'text', 1: 'ner'}\n",
        "# change path  \n",
        "data_folder = '/content/drive/My Drive/resources/tasks/germeval/BIOES'\n",
        "\n",
        "corpus: Corpus = ColumnCorpus(data_folder, columns,\n",
        "                              train_file='train_bioes.train',\n",
        "                              test_file='test_bioes.test',\n",
        "                              dev_file='dev_bioes.dev')"
      ],
      "execution_count": null,
      "outputs": []
    },
    {
      "cell_type": "markdown",
      "metadata": {
        "id": "PF4NtcQlLplO",
        "colab_type": "text"
      },
      "source": [
        "### Conll_03\n",
        "#### delete tag_to_bioes if BIO/IOB format is desired\n"
      ]
    },
    {
      "cell_type": "code",
      "metadata": {
        "id": "rBnv-jIpLrgS",
        "colab_type": "code",
        "colab": {}
      },
      "source": [
        "columns = {0: 'text', 2: 'pos', 4: 'ner'}\n",
        "# change path\n",
        "data_folder = '/content/drive/My Drive/resources/tasks/conll_03_german/BIO + POS'\n",
        "\n",
        "corpus: Corpus = ColumnCorpus(data_folder, columns,\n",
        "                              tag_to_bioes='ner',\n",
        "                              train_file='train.train',\n",
        "                              dev_file='dev.dev',\n",
        "                              test_file='testa.test')"
      ],
      "execution_count": null,
      "outputs": []
    },
    {
      "cell_type": "markdown",
      "metadata": {
        "id": "dI2_i56SxubP",
        "colab_type": "text"
      },
      "source": [
        "## 3. Define Task"
      ]
    },
    {
      "cell_type": "code",
      "metadata": {
        "id": "fspFpCHzb4H_",
        "colab_type": "code",
        "colab": {}
      },
      "source": [
        "# define task + tag dict.\n",
        "tag_type = 'ner'\n",
        "tag_dictionary = corpus.make_tag_dictionary(tag_type=tag_type)\n",
        "print(tag_dictionary )\n",
        "#print(corpus.train[2].to_tagged_string('ner'))"
      ],
      "execution_count": null,
      "outputs": []
    },
    {
      "cell_type": "markdown",
      "metadata": {
        "id": "JAd8EkjOUeH8",
        "colab_type": "text"
      },
      "source": [
        "## 4. Set Embeddings"
      ]
    },
    {
      "cell_type": "markdown",
      "metadata": {
        "id": "hUYn8Bs3X2rK",
        "colab_type": "text"
      },
      "source": [
        "### Word (fastext) + BytePairEmbeddings Embeddings\n",
        "#### BytePair for oov-functionality \n"
      ]
    },
    {
      "cell_type": "code",
      "metadata": {
        "id": "cj88rDnuYmba",
        "colab_type": "code",
        "colab": {}
      },
      "source": [
        "# initialize embeddings \n",
        "embedding_types: List[TokenEmbeddings] = [\n",
        "                                         WordEmbeddings('de'),\n",
        "                                         BytePairEmbeddings('de')                                                 \n",
        "]\n",
        "embeddings: StackedEmbeddings = StackedEmbeddings(embeddings=embedding_types)"
      ],
      "execution_count": null,
      "outputs": []
    },
    {
      "cell_type": "markdown",
      "metadata": {
        "id": "r5z0MJFDY72k",
        "colab_type": "text"
      },
      "source": [
        "### Word (fasttext over crawl) + BytePairEmbeddings Embeddings\n",
        "\n",
        "\n"
      ]
    },
    {
      "cell_type": "code",
      "metadata": {
        "id": "O6_I18kLZA8g",
        "colab_type": "code",
        "colab": {}
      },
      "source": [
        "# initialize embeddings \n",
        "embedding_types: List[TokenEmbeddings] = [\n",
        "                                         WordEmbeddings('de-crawl'),\n",
        "                                         BytePairEmbeddings('de')                                                   \n",
        "]\n",
        "embeddings: StackedEmbeddings = StackedEmbeddings(embeddings=embedding_types)"
      ],
      "execution_count": null,
      "outputs": []
    },
    {
      "cell_type": "markdown",
      "metadata": {
        "id": "tJoKW37iUsyY",
        "colab_type": "text"
      },
      "source": [
        "### Word (fasttext) + Flair Embeddings"
      ]
    },
    {
      "cell_type": "code",
      "metadata": {
        "id": "L43bPcondLAw",
        "colab_type": "code",
        "colab": {}
      },
      "source": [
        "# initialize embeddings \n",
        "embedding_types: List[TokenEmbeddings] = [\n",
        "                                         WordEmbeddings('de'),\n",
        "\n",
        "                                         FlairEmbeddings('de-forward'),\n",
        "                                         FlairEmbeddings('de-backward'),                                                   \n",
        "]\n",
        "embeddings: StackedEmbeddings = StackedEmbeddings(embeddings=embedding_types)"
      ],
      "execution_count": null,
      "outputs": []
    },
    {
      "cell_type": "markdown",
      "metadata": {
        "id": "tgqgjdvlgM-q",
        "colab_type": "text"
      },
      "source": [
        "### Word (fasttext) + Flair (de-history) Embeddings \n",
        "#### Hamburger Anzeiger"
      ]
    },
    {
      "cell_type": "code",
      "metadata": {
        "id": "KpRliKT3gUoe",
        "colab_type": "code",
        "colab": {}
      },
      "source": [
        "# initialize embeddings \n",
        "embedding_types: List[TokenEmbeddings] = [\n",
        "                                         WordEmbeddings('de'),\n",
        "\n",
        "                                         FlairEmbeddings('de-historic-ha-forward'),\n",
        "                                         FlairEmbeddings('de-historic-ha-backward'),                                                   \n",
        "]\n",
        "embeddings: StackedEmbeddings = StackedEmbeddings(embeddings=embedding_types)"
      ],
      "execution_count": null,
      "outputs": []
    },
    {
      "cell_type": "markdown",
      "metadata": {
        "colab_type": "text",
        "id": "jEmXUeRogl92"
      },
      "source": [
        "### Word (fasttext) + Flair (de-history) Embeddings \n",
        "#### Wiener Zeitung"
      ]
    },
    {
      "cell_type": "code",
      "metadata": {
        "colab_type": "code",
        "id": "HqqTOHTsgl97",
        "colab": {}
      },
      "source": [
        "# initialize embeddings \n",
        "embedding_types: List[TokenEmbeddings] = [\n",
        "                                         WordEmbeddings('de'),\n",
        "\n",
        "                                         FlairEmbeddings('de-historic-wz-forward'),\n",
        "                                         FlairEmbeddings('de-historic-wz-backward'),                                                   \n",
        "]\n",
        "embeddings: StackedEmbeddings = StackedEmbeddings(embeddings=embedding_types)"
      ],
      "execution_count": null,
      "outputs": []
    },
    {
      "cell_type": "markdown",
      "metadata": {
        "id": "tDblEo_YZ2hd",
        "colab_type": "text"
      },
      "source": [
        "### Word (fasttext) + Pooled Flair Embeddings\n",
        "#### Best known configuration"
      ]
    },
    {
      "cell_type": "code",
      "metadata": {
        "id": "yp24kaCSZ_ck",
        "colab_type": "code",
        "colab": {}
      },
      "source": [
        "# initialize embeddings \n",
        "embedding_types: List[TokenEmbeddings] = [\n",
        "                                         WordEmbeddings('de'),\n",
        "\n",
        "                                         PooledFlairEmbeddings('german-forward'),\n",
        "                                         PooledFlairEmbeddings('german-backward'),                                                   \n",
        "]\n",
        "embeddings: StackedEmbeddings = StackedEmbeddings(embeddings=embedding_types)"
      ],
      "execution_count": null,
      "outputs": []
    },
    {
      "cell_type": "markdown",
      "metadata": {
        "colab_type": "text",
        "id": "H7-FAsWgRjrA"
      },
      "source": [
        "### Word (fasttext) + CharacterEmbeddings + Flair Embeddings\n",
        "\n"
      ]
    },
    {
      "cell_type": "code",
      "metadata": {
        "colab_type": "code",
        "id": "iIWrvL5WRjrB",
        "colab": {}
      },
      "source": [
        "# initialize embeddings \n",
        "embedding_types: List[TokenEmbeddings] = [\n",
        "                                         WordEmbeddings('de'),\n",
        "                                         CharacterEmbeddings(),\n",
        "                                         FlairEmbeddings('de-forward'),\n",
        "                                         FlairEmbeddings('de-backward'),\n",
        "                                                                                            \n",
        "]\n",
        "embeddings: StackedEmbeddings = StackedEmbeddings(embeddings=embedding_types)"
      ],
      "execution_count": null,
      "outputs": []
    },
    {
      "cell_type": "markdown",
      "metadata": {
        "colab_type": "text",
        "id": "pX2U3RZmSLa_"
      },
      "source": [
        "### Word (fasttext) + CharacterEmbeddings + Pooled Flair Embeddings \n",
        "\n",
        "\n"
      ]
    },
    {
      "cell_type": "code",
      "metadata": {
        "id": "X_CuSYuDSXxb",
        "colab_type": "code",
        "colab": {}
      },
      "source": [
        "# initialize embeddings \n",
        "embedding_types: List[TokenEmbeddings] = [\n",
        "                                         WordEmbeddings('de'),\n",
        "                                         CharacterEmbeddings(),\n",
        "                                         PooledFlairEmbeddings('german-forward'),\n",
        "                                         PooledFlairEmbeddings('german-backward'), \n",
        "                                                                                            \n",
        "]\n",
        "embeddings: StackedEmbeddings = StackedEmbeddings(embeddings=embedding_types)"
      ],
      "execution_count": null,
      "outputs": []
    },
    {
      "cell_type": "markdown",
      "metadata": {
        "id": "IUp-34p9aqz5",
        "colab_type": "text"
      },
      "source": [
        "### PooledFlair Embeddings + dbmdz-BERT-german-cased Embeddings\n"
      ]
    },
    {
      "cell_type": "code",
      "metadata": {
        "id": "Zj8YpWXpa0Pr",
        "colab_type": "code",
        "colab": {}
      },
      "source": [
        "# initialize embeddings \n",
        "embedding_types: List[TokenEmbeddings] = [\n",
        "                                         PooledFlairEmbeddings('german-forward'),\n",
        "                                         PooledFlairEmbeddings('german-backward'),\n",
        "                                          \n",
        "                                         TransformerEmbeddings('bert-base-german-dbmdz-cased')\n",
        "                                                                                             \n",
        "]\n",
        "embeddings: StackedEmbeddings = StackedEmbeddings(embeddings=embedding_types)"
      ],
      "execution_count": null,
      "outputs": []
    },
    {
      "cell_type": "markdown",
      "metadata": {
        "id": "p4iWznPwUxO0",
        "colab_type": "text"
      },
      "source": [
        "### Word (fasttext) + dbmdz-BERT-german-cased Embeddings\n"
      ]
    },
    {
      "cell_type": "code",
      "metadata": {
        "id": "S50SDIfAU02X",
        "colab_type": "code",
        "colab": {}
      },
      "source": [
        "# initialize embeddings \n",
        "embedding_types: List[TokenEmbeddings] = [\n",
        "                                         WordEmbeddings('de'),\n",
        "\n",
        "                                         TransformerEmbeddings('bert-base-german-dbmdz-cased'),\n",
        "                                                                                            \n",
        "]\n",
        "embeddings: StackedEmbeddings = StackedEmbeddings(embeddings=embedding_types)"
      ],
      "execution_count": null,
      "outputs": []
    },
    {
      "cell_type": "markdown",
      "metadata": {
        "colab_type": "text",
        "id": "6FnOfvlQbpTb"
      },
      "source": [
        "### Word (fasttext) + dbmdz-BERT-german-uncased Embeddings\n"
      ]
    },
    {
      "cell_type": "code",
      "metadata": {
        "colab_type": "code",
        "id": "KOl8Ry4UbpTf",
        "colab": {}
      },
      "source": [
        "# initialize embeddings \n",
        "embedding_types: List[TokenEmbeddings] = [\n",
        "                                         WordEmbeddings('de'),\n",
        "\n",
        "                                         TransformerEmbeddings('bert-base-german-dbmdz-uncased'),\n",
        "                                                                                            \n",
        "]\n",
        "embeddings: StackedEmbeddings = StackedEmbeddings(embeddings=embedding_types)"
      ],
      "execution_count": null,
      "outputs": []
    },
    {
      "cell_type": "markdown",
      "metadata": {
        "id": "LEkCXfLrZIz8",
        "colab_type": "text"
      },
      "source": [
        "### Word (fasttext) + BERT-base-cased Embeddings"
      ]
    },
    {
      "cell_type": "code",
      "metadata": {
        "id": "rQvJ3EDtZOc9",
        "colab_type": "code",
        "colab": {}
      },
      "source": [
        "# initialize embeddings \n",
        "embedding_types: List[TokenEmbeddings] = [\n",
        "                                         WordEmbeddings('de'),\n",
        "\n",
        "                                         TransformerEmbeddings('bert-base-cased'),\n",
        "                                                                                            \n",
        "]\n",
        "embeddings: StackedEmbeddings = StackedEmbeddings(embeddings=embedding_types)"
      ],
      "execution_count": null,
      "outputs": []
    },
    {
      "cell_type": "markdown",
      "metadata": {
        "colab_type": "text",
        "id": "aHFumxgxbvAF"
      },
      "source": [
        "### Word (fasttext) + BERT-base-uncased Embeddings"
      ]
    },
    {
      "cell_type": "code",
      "metadata": {
        "colab_type": "code",
        "id": "JU2hESKIbvAI",
        "colab": {}
      },
      "source": [
        "# initialize embeddings \n",
        "embedding_types: List[TokenEmbeddings] = [\n",
        "                                         WordEmbeddings('de'),\n",
        "\n",
        "                                         TransformerEmbeddings('bert-base-uncased'),\n",
        "                                                                                            \n",
        "]\n",
        "embeddings: StackedEmbeddings = StackedEmbeddings(embeddings=embedding_types)"
      ],
      "execution_count": null,
      "outputs": []
    },
    {
      "cell_type": "markdown",
      "metadata": {
        "id": "_oTyHf5jZblf",
        "colab_type": "text"
      },
      "source": [
        "### Word (fasttext) + BERT-multilingual-cased Embeddings"
      ]
    },
    {
      "cell_type": "code",
      "metadata": {
        "id": "duMnUjUBZk02",
        "colab_type": "code",
        "colab": {}
      },
      "source": [
        "# initialize embeddings \n",
        "embedding_types: List[TokenEmbeddings] = [\n",
        "                                         WordEmbeddings('de'),\n",
        "\n",
        "                                         TransformerEmbeddings('bert-base-multilingual-cased'),\n",
        "                                                                                            \n",
        "]\n",
        "embeddings: StackedEmbeddings = StackedEmbeddings(embeddings=embedding_types)"
      ],
      "execution_count": null,
      "outputs": []
    },
    {
      "cell_type": "markdown",
      "metadata": {
        "colab_type": "text",
        "id": "sMxCCGWWb772"
      },
      "source": [
        "### Word (fasttext) + BERT-multilingual-uncased Embeddings"
      ]
    },
    {
      "cell_type": "code",
      "metadata": {
        "colab_type": "code",
        "id": "ghKuAhb7b776",
        "colab": {}
      },
      "source": [
        "# initialize embeddings \n",
        "embedding_types: List[TokenEmbeddings] = [\n",
        "                                         WordEmbeddings('de'),\n",
        "\n",
        "                                         TransformerEmbeddings('bert-base-multilingual-uncased'),\n",
        "                                                                                            \n",
        "]\n",
        "embeddings: StackedEmbeddings = StackedEmbeddings(embeddings=embedding_types)"
      ],
      "execution_count": null,
      "outputs": []
    },
    {
      "cell_type": "markdown",
      "metadata": {
        "id": "eEinDdOReGtm",
        "colab_type": "text"
      },
      "source": [
        "### Word (fasttext) + BERT-base-german-cased\n"
      ]
    },
    {
      "cell_type": "code",
      "metadata": {
        "id": "kNmgr74GeL8f",
        "colab_type": "code",
        "colab": {}
      },
      "source": [
        "# initialize embeddings \n",
        "embedding_types: List[TokenEmbeddings] = [\n",
        "                                         WordEmbeddings('de'),\n",
        "\n",
        "                                         TransformerEmbeddings('bert-base-german-cased'),\n",
        "                                                                                            \n",
        "]\n",
        "embeddings: StackedEmbeddings = StackedEmbeddings(embeddings=embedding_types)"
      ],
      "execution_count": null,
      "outputs": []
    },
    {
      "cell_type": "markdown",
      "metadata": {
        "id": "i281Wbd5ejlG",
        "colab_type": "text"
      },
      "source": [
        "### Word (fasttext) + distilbert-base-german-cased"
      ]
    },
    {
      "cell_type": "code",
      "metadata": {
        "id": "d42UlqrIenHf",
        "colab_type": "code",
        "colab": {}
      },
      "source": [
        "# initialize embeddings \n",
        "embedding_types: List[TokenEmbeddings] = [\n",
        "                                         WordEmbeddings('de'),\n",
        "\n",
        "                                         TransformerEmbeddings('distilbert-base-german-cased'),\n",
        "                                                                                            \n",
        "]\n",
        "embeddings: StackedEmbeddings = StackedEmbeddings(embeddings=embedding_types)"
      ],
      "execution_count": null,
      "outputs": []
    },
    {
      "cell_type": "markdown",
      "metadata": {
        "id": "u4icwuEtesow",
        "colab_type": "text"
      },
      "source": [
        "### Word (fastext) + distilbert-base-multilingual-cased"
      ]
    },
    {
      "cell_type": "code",
      "metadata": {
        "id": "B3raDCpPewPe",
        "colab_type": "code",
        "colab": {}
      },
      "source": [
        "# initialize embeddings \n",
        "embedding_types: List[TokenEmbeddings] = [\n",
        "                                         WordEmbeddings('de'),\n",
        "\n",
        "                                         TransformerEmbeddings('distilbert-base-multilingual-cased'),\n",
        "                                                                                            \n",
        "]\n",
        "embeddings: StackedEmbeddings = StackedEmbeddings(embeddings=embedding_types)"
      ],
      "execution_count": null,
      "outputs": []
    },
    {
      "cell_type": "markdown",
      "metadata": {
        "id": "K6g5KjFIbQdD",
        "colab_type": "text"
      },
      "source": [
        "## 5. Set the remaining params and training"
      ]
    },
    {
      "cell_type": "code",
      "metadata": {
        "id": "1Eqf02nBgSOp",
        "colab_type": "code",
        "colab": {}
      },
      "source": [
        "# initialize sequence tagger\n",
        "tagger: SequenceTagger = SequenceTagger(hidden_size=256,\n",
        "                                        embeddings=embeddings,\n",
        "                                        tag_dictionary=tag_dictionary,\n",
        "                                        tag_type=tag_type,\n",
        "                                        use_crf=True)"
      ],
      "execution_count": null,
      "outputs": []
    },
    {
      "cell_type": "code",
      "metadata": {
        "id": "zPqPcqgugcJh",
        "colab_type": "code",
        "colab": {}
      },
      "source": [
        "# initialize trainer\n",
        "trainer: ModelTrainer = ModelTrainer(tagger, corpus)\n"
      ],
      "execution_count": null,
      "outputs": []
    },
    {
      "cell_type": "code",
      "metadata": {
        "id": "PCs4NAeKg3aU",
        "colab_type": "code",
        "colab": {}
      },
      "source": [
        "# start training, uncomment checkpoint if training should be pausable\n",
        "trainer.train('resources/taggers/example-ner',\n",
        "              learning_rate=0.1,\n",
        "              mini_batch_size=32,\n",
        "              max_epochs=150,\n",
        "              #checkpoint=True, \n",
        "              train_with_dev='True',\n",
        "              embeddings_storage_mode='gpu')"
      ],
      "execution_count": null,
      "outputs": []
    },
    {
      "cell_type": "code",
      "metadata": {
        "id": "tDfu7tXO5V1L",
        "colab_type": "code",
        "colab": {}
      },
      "source": [
        "# restart training at any time\n",
        "from pathlib import Path\n",
        "# chnage path\n",
        "checkpoint = '/content/drive/My Drive/resources/checkpoint.pt'\n",
        "trainer = ModelTrainer.load_checkpoint(checkpoint, corpus)\n",
        "trainer.train('resources/taggers/example-ner',\n",
        "              learning_rate=0.1,\n",
        "              mini_batch_size=32,\n",
        "              train_with_dev='True',\n",
        "              max_epochs=?,\n",
        "              checkpoint=True, \n",
        "              embeddings_storage_mode='gpu')"
      ],
      "execution_count": null,
      "outputs": []
    },
    {
      "cell_type": "code",
      "metadata": {
        "id": "RXEphnwWhQD-",
        "colab_type": "code",
        "colab": {}
      },
      "source": [
        "# plot weight traces \n",
        "plotter = Plotter()\n",
        "plotter.plot_weights('resources/taggers/example-ner/weights.txt')"
      ],
      "execution_count": null,
      "outputs": []
    }
  ]
}